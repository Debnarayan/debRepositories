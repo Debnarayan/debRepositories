{
  "nbformat": 4,
  "nbformat_minor": 0,
  "metadata": {
    "colab": {
      "name": "DEBMALYA MAJUMDER.py",
      "provenance": [],
      "collapsed_sections": [],
      "include_colab_link": true
    },
    "kernelspec": {
      "name": "python3",
      "display_name": "Python 3"
    },
    "language_info": {
      "name": "python"
    }
  },
  "cells": [
    {
      "cell_type": "markdown",
      "metadata": {
        "id": "view-in-github",
        "colab_type": "text"
      },
      "source": [
        "<a href=\"https://colab.research.google.com/github/Debnarayan/debRepositories/blob/master/DEBMALYA_MAJUMDER_py.ipynb\" target=\"_parent\"><img src=\"https://colab.research.google.com/assets/colab-badge.svg\" alt=\"Open In Colab\"/></a>"
      ]
    },
    {
      "cell_type": "code",
      "metadata": {
        "colab": {
          "base_uri": "https://localhost:8080/"
        },
        "id": "pxfYXyH6Aq7g",
        "outputId": "6b8690c8-da3b-4b35-ae71-1cc5af2f173f"
      },
      "source": [
        "# WAP to show whether the alphabet is even or odd.\n",
        "ch = input(\"Enter a character: \")\n",
        "\n",
        "if(ch=='A' or ch=='E' or ch=='I' or ch=='O' or ch=='U' or ch=='a' or ch=='e' or ch=='i' or ch=='o' or ch=='u'):\n",
        "  print(ch, \"is a Vowel\")\n",
        "else:\n",
        "  print(ch, \"is a Consonant\")"
      ],
      "execution_count": 1,
      "outputs": [
        {
          "output_type": "stream",
          "name": "stdout",
          "text": [
            "Enter a character: p\n",
            "p is a Consonant\n"
          ]
        }
      ]
    },
    {
      "cell_type": "code",
      "metadata": {
        "colab": {
          "base_uri": "https://localhost:8080/"
        },
        "id": "C89WypUyD9_R",
        "outputId": "00339232-2293-4342-96a1-23a4367fd3be"
      },
      "source": [
        "# WAP to show whether no is odd or even.\n",
        "no = int(input(\"Enter a number: \"))  \n",
        "if (no % 2) == 0:  \n",
        "   print(\"no is Even number\")  \n",
        "else:  \n",
        "   print(\"no is Odd number\")  "
      ],
      "execution_count": 3,
      "outputs": [
        {
          "output_type": "stream",
          "name": "stdout",
          "text": [
            "Enter a number: 25\n",
            "no is Odd number\n"
          ]
        }
      ]
    },
    {
      "cell_type": "code",
      "metadata": {
        "colab": {
          "base_uri": "https://localhost:8080/"
        },
        "id": "Q43sPOXPE0xi",
        "outputId": "1d72d6d8-b0c8-4d38-e2aa-d0d6b9cc6f2b"
      },
      "source": [
        "# WAP to show whether num is divisible by 7 or not.\n",
        "num=int(input(\"Enter your number:\"))\n",
        "if(num%7==0):\n",
        "    print(\"num is divisible by 7\")\n",
        "else:\n",
        "    print(\"num is not divisible by 7\")"
      ],
      "execution_count": 4,
      "outputs": [
        {
          "output_type": "stream",
          "name": "stdout",
          "text": [
            "Enter your number:77\n",
            "num is divisible by 7\n"
          ]
        }
      ]
    }
  ]
}